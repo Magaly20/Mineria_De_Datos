{
 "cells": [
  {
   "cell_type": "code",
   "execution_count": 1,
   "metadata": {},
   "outputs": [
    {
     "name": "stdout",
     "output_type": "stream",
     "text": [
      "Hola mundo!!\n"
     ]
    }
   ],
   "source": [
    "print(\"Hola mundo!!\")"
   ]
  },
  {
   "cell_type": "code",
   "execution_count": 44,
   "metadata": {},
   "outputs": [
    {
     "name": "stdout",
     "output_type": "stream",
     "text": [
      "1823340 MAGALY_RIVERA_VALDEZ\n"
     ]
    }
   ],
   "source": [
    "##EJERCICIO 1\n",
    "#Realiza una variable con tu matricula y realiza una secuencia de \n",
    "#imprimir con tu nombre y tu matricula concatenados\n",
    "a=1823340\n",
    "b= \"MAGALY_RIVERA_VALDEZ\"\n",
    "\n",
    "print(a, b)"
   ]
  },
  {
   "cell_type": "code",
   "execution_count": 45,
   "metadata": {},
   "outputs": [
    {
     "name": "stdout",
     "output_type": "stream",
     "text": [
      "Bienvenido a cálculos básicos, al momento de introducir dos numeros, automaticamente se darán sus operaciones basicas de cada uno :)\n",
      "Favor de introducir un número = 6\n",
      "Introduce otro número = 3\n",
      "Para reafirmar, te mostraremos los numeros introducidos -> \n",
      " num1 = 6 y num2 = 3 \n",
      "La suma es = 9\n",
      "La resta = 3\n",
      "La división = 2.000000\n",
      "Elevacion al cuadrado del primer numero = 36\n",
      "Elevacion al cuadrado del segundo numero = 9\n"
     ]
    }
   ],
   "source": [
    "##EJERCICIO 2\n",
    "#Pidiendo el input del usuario pide dos números y crea una pequeña\n",
    "#calculadora con los operadores básicos de suma, resta, \n",
    "#multiplicación, división, y exponente.\n",
    "print(\"Bienvenido a cálculos básicos, al momento de introducir dos numeros, automaticamente se darán sus operaciones basicas de cada uno :)\")\n",
    "a=int(input(\"Favor de introducir un número = \"))\n",
    "b=int(input(\"Introduce otro número = \"))\n",
    "print(\"Para reafirmar, te mostraremos los numeros introducidos -> \\n num1 = %d y num2 = %d \"%(a,b))\n",
    "c= a+b\n",
    "d= a-b\n",
    "e= a/b\n",
    "f= a**2\n",
    "g= b**2\n",
    "print(\"La suma es = %d\\nLa resta = %d\\nLa división = %f\\nElevacion al cuadrado del primer numero = %d\\nElevacion al cuadrado del segundo numero = %d\"%(c,d,e,f,g))"
   ]
  },
  {
   "cell_type": "code",
   "execution_count": 21,
   "metadata": {},
   "outputs": [
    {
     "name": "stdout",
     "output_type": "stream",
     "text": [
      "3\n",
      "6\n",
      "9\n",
      "12\n",
      "15\n",
      "18\n",
      "21\n",
      "24\n",
      "27\n",
      "30\n",
      "La Suma es =  337\n"
     ]
    }
   ],
   "source": [
    "##EJERCICIO 3\n",
    "#Con loop while o for, realiza una lista de 10 numeros multiplos de 3,\n",
    "#y después realiza una función de loop que sume todos los números dentro del arreglo.\n",
    "\n",
    "import numpy as np \n",
    "lista = list()\n",
    "sum=0\n",
    "for i in range (1,11):\n",
    "    mult=i*3\n",
    "    lista.append(mult)\n",
    "    print(mult)\n",
    "    suma=suma+mult\n",
    "print(\"La Suma es = \",suma)"
   ]
  },
  {
   "cell_type": "code",
   "execution_count": 22,
   "metadata": {},
   "outputs": [
    {
     "name": "stdout",
     "output_type": "stream",
     "text": [
      "Introduce un número:5\n",
      "El número es impar\n",
      "Introduce otro número:4\n",
      "El número no es primo\n"
     ]
    }
   ],
   "source": [
    "##EJERCICIO 4\n",
    "#Con una función de if else, revisar si un número es par o es impar.\n",
    "#Con una función de if else, revisar si un número es primo o no.\n",
    "c = 1\n",
    "a = int(input(\"Introduce un número:\" ))\n",
    "if a %2 == 0:\n",
    "            print(\"El número es par\")\n",
    "else:\n",
    "            print(\"El número es impar\")\n",
    "###---------------------------------------------------------\n",
    "b = int(input(\"Introduce otro número:\" ))\n",
    "if b < 1:\n",
    "    print(\"Error\")\n",
    "elif b == 2:\n",
    "        print(\"El número es primo\")\n",
    "else:\n",
    "    for i in range(2, b):\n",
    "        if b % i == 0:\n",
    "            c = 0\n",
    "if c == 0:\n",
    "    print(\"El número no es primo\")\n",
    "else:\n",
    "    print(\"El número es primo\")"
   ]
  },
  {
   "cell_type": "code",
   "execution_count": 41,
   "metadata": {},
   "outputs": [
    {
     "name": "stdout",
     "output_type": "stream",
     "text": [
      "Bienvenida a la calculadora basica digital, \n",
      "Favor de introducir un número = 6\n",
      "Introduce otro número = 3\n",
      "Para reafirmar, te mostraremos los numeros introducidos -> \n",
      " num1 = 6 y num2 = 3 \n",
      "Ahora, favor de introducir la operación a realizar = \n",
      "1.-Suma\n",
      "2.-Resta\n",
      "3.-Division\n",
      "4.-Multiplicacion\n",
      "5.-Número 1 al cuadrado\n",
      "6.-Número 2 al cuadrado6\n",
      "El segundo número elevado al cuadrado es: 9\n"
     ]
    }
   ],
   "source": [
    "##EJERCICIO 5\n",
    "#Utilizando diferentes clases en python, crea una calculadora con los operadores \n",
    "#básicos de suma, resta, multiplicación, división, y exponente.\n",
    "print(\"Bienvenida a la calculadora basica digital, \")\n",
    "a=int(input(\"Favor de introducir un número = \"))\n",
    "b=int(input(\"Introduce otro número = \"))\n",
    "print(\"Para reafirmar, te mostraremos los numeros introducidos -> \\n num1 = %d y num2 = %d \"%(a,b))\n",
    "opc=(int(input(\"Ahora, favor de introducir la operación a realizar = \\n1.-Suma\\n2.-Resta\\n3.-Division\\n4.-Multiplicacion\\n5.-Número 1 al cuadrado\\n6.-Número 2 al cuadrado\")))\n",
    "s= a+b\n",
    "r= a-b\n",
    "d= a/b\n",
    "m= a*b\n",
    "c= a**2\n",
    "c2= b**2 \n",
    "if opc==1:\n",
    "    print(\"La suma es:\",s)\n",
    "elif opc==2:\n",
    "    print(\"La resta es:\",r)  \n",
    "elif opc==3:\n",
    "    print(\"La división es:\",d)\n",
    "elif opc==4:\n",
    "    print(\"El producto es:\",m)\n",
    "elif opc==5:\n",
    "    print(\"El primer número elevado al cuadrado es:\",c)\n",
    "elif opc==6:\n",
    "    print(\"El segundo número elevado al cuadrado es:\",c2)\n",
    "else:\n",
    "    print(\"No existe esa opcion,lo lamento,favor de intentar de nuevo\")  "
   ]
  },
  {
   "cell_type": "code",
   "execution_count": 43,
   "metadata": {},
   "outputs": [
    {
     "name": "stdout",
     "output_type": "stream",
     "text": [
      "La variabla a: 6  es <class 'int'>\n",
      "La variabla b: 4.5  es <class 'float'>\n",
      "La variabla c: True  es <class 'bool'>\n",
      "La variabla d: (7+5j)  es <class 'complex'>\n"
     ]
    }
   ],
   "source": [
    "##TUPLAS\n",
    "#Crear una variable flotante, integer, \n",
    "#boleana y compleja e imprimir el tipo de variable que es.\n",
    "a = int(6)\n",
    "b = float(4.5)\n",
    "c = bool(55)\n",
    "d = 7 + 5j\n",
    "print(\"La variabla a:\",a, \" es\", type(a))\n",
    "print(\"La variabla b:\",b, \" es\", type(b))\n",
    "print(\"La variabla c:\", c, \" es\", type(c))\n",
    "print(\"La variabla d:\",d, \" es\", type(d))"
   ]
  },
  {
   "cell_type": "code",
   "execution_count": 47,
   "metadata": {},
   "outputs": [
    {
     "data": {
      "text/plain": [
       "(5, 2)"
      ]
     },
     "execution_count": 47,
     "metadata": {},
     "output_type": "execute_result"
    }
   ],
   "source": [
    "##TUPLA2\n",
    "#Crear una tupla con \n",
    "#valores enteros imprimir el primer y ultimo valor\n",
    "tupla=(5,7,2)\n",
    "tupla[0],tupla[2]"
   ]
  },
  {
   "cell_type": "code",
   "execution_count": 49,
   "metadata": {},
   "outputs": [
    {
     "data": {
      "text/plain": [
       "(((5, 7, 2), 'Me', 'Gustan', 'Gatos'), 'Me', 'Gustan', 'Los Gatos')"
      ]
     },
     "execution_count": 49,
     "metadata": {},
     "output_type": "execute_result"
    }
   ],
   "source": [
    "##TUPLA3\n",
    "##Añadir 3 valores de string a la tupla.\n",
    "tupla=tupla,\"Me\",\"Gustan\",\"Los Gatos\"\n",
    "tupla"
   ]
  },
  {
   "cell_type": "code",
   "execution_count": 50,
   "metadata": {},
   "outputs": [
    {
     "ename": "ValueError",
     "evalue": "tuple.index(x): x not in tuple",
     "output_type": "error",
     "traceback": [
      "\u001b[1;31m---------------------------------------------------------------------------\u001b[0m",
      "\u001b[1;31mValueError\u001b[0m                                Traceback (most recent call last)",
      "\u001b[1;32m<ipython-input-50-c15f8874c906>\u001b[0m in \u001b[0;36m<module>\u001b[1;34m\u001b[0m\n\u001b[1;32m----> 1\u001b[1;33m \u001b[0mprint\u001b[0m\u001b[1;33m(\u001b[0m\u001b[0mtupla\u001b[0m\u001b[1;33m.\u001b[0m\u001b[0mindex\u001b[0m\u001b[1;33m(\u001b[0m\u001b[1;34m\"Gatos\"\u001b[0m\u001b[1;33m)\u001b[0m\u001b[1;33m)\u001b[0m\u001b[1;33m\u001b[0m\u001b[1;33m\u001b[0m\u001b[0m\n\u001b[0m\u001b[0;32m      2\u001b[0m \u001b[0mprint\u001b[0m\u001b[1;33m(\u001b[0m\u001b[0mtupla\u001b[0m\u001b[1;33m.\u001b[0m\u001b[0mindex\u001b[0m\u001b[1;33m(\u001b[0m\u001b[1;36m7\u001b[0m\u001b[1;33m)\u001b[0m\u001b[1;33m)\u001b[0m\u001b[1;33m\u001b[0m\u001b[1;33m\u001b[0m\u001b[0m\n",
      "\u001b[1;31mValueError\u001b[0m: tuple.index(x): x not in tuple"
     ]
    }
   ],
   "source": [
    "##TUPLA4\n",
    "#Verificar si una variable existe dentro de la tupla.\n",
    "print(tupla.index(\"Gatos\"))\n",
    "print(tupla.index(7))"
   ]
  },
  {
   "cell_type": "code",
   "execution_count": 51,
   "metadata": {},
   "outputs": [
    {
     "data": {
      "text/plain": [
       "[77,\n",
       " 71,\n",
       " 78,\n",
       " 56,\n",
       " 66,\n",
       " 36,\n",
       " 10,\n",
       " 14,\n",
       " 37,\n",
       " 25,\n",
       " 96,\n",
       " 15,\n",
       " 72,\n",
       " 62,\n",
       " 85,\n",
       " 70,\n",
       " 75,\n",
       " 0,\n",
       " 84,\n",
       " 2,\n",
       " 28,\n",
       " 19,\n",
       " 94,\n",
       " 42,\n",
       " 46,\n",
       " 52,\n",
       " 4,\n",
       " 53,\n",
       " 50,\n",
       " 55,\n",
       " 58,\n",
       " 38,\n",
       " 60,\n",
       " 32,\n",
       " 33,\n",
       " 34,\n",
       " 88,\n",
       " 13,\n",
       " 49,\n",
       " 82]"
      ]
     },
     "execution_count": 51,
     "metadata": {},
     "output_type": "execute_result"
    }
   ],
   "source": [
    "##LISTAS\n",
    "#Crear una lista con 40 elementos aleatorios enteros.\n",
    "import random as r\n",
    "lista = range(0,100)\n",
    "lista = r.sample(lista, k = 40)\n",
    "lista"
   ]
  },
  {
   "cell_type": "code",
   "execution_count": 52,
   "metadata": {},
   "outputs": [],
   "source": [
    "##LISTAS2\n",
    "#Con una funcion (def) crear dos listas nuevas a partir de la lista \n",
    "#creada por numeros aleatorios, en la cual en una esten los elementos \n",
    "#pares, y en la otra los elementos impares.\n",
    "pares = []\n",
    "impares = []\n",
    "for i in range(len(lista)):\n",
    "        lista[i]\n",
    "        if lista[i] %2 == 0:\n",
    "            pares.append(lista[i])\n",
    "        else:\n",
    "            impares.append(lista[i])"
   ]
  },
  {
   "cell_type": "code",
   "execution_count": 53,
   "metadata": {},
   "outputs": [
    {
     "data": {
      "text/plain": [
       "[78,\n",
       " 56,\n",
       " 66,\n",
       " 36,\n",
       " 10,\n",
       " 14,\n",
       " 96,\n",
       " 72,\n",
       " 62,\n",
       " 70,\n",
       " 0,\n",
       " 84,\n",
       " 2,\n",
       " 28,\n",
       " 94,\n",
       " 42,\n",
       " 46,\n",
       " 52,\n",
       " 4,\n",
       " 50,\n",
       " 58,\n",
       " 38,\n",
       " 60,\n",
       " 32,\n",
       " 34,\n",
       " 88,\n",
       " 82]"
      ]
     },
     "execution_count": 53,
     "metadata": {},
     "output_type": "execute_result"
    }
   ],
   "source": [
    "##LISTAS3\n",
    "#Crear dos variables con la longitud de ambas listas nuevas e \n",
    "#imprimir las variables.\n",
    "pares"
   ]
  },
  {
   "cell_type": "code",
   "execution_count": 54,
   "metadata": {},
   "outputs": [
    {
     "data": {
      "text/plain": [
       "[77, 71, 37, 25, 15, 85, 75, 19, 53, 55, 33, 13, 49]"
      ]
     },
     "execution_count": 54,
     "metadata": {},
     "output_type": "execute_result"
    }
   ],
   "source": [
    "##LISTAS3\n",
    "#Crear dos variables con la longitud de ambas listas nuevas e \n",
    "#imprimir las variables.\n",
    "impares"
   ]
  },
  {
   "cell_type": "code",
   "execution_count": 55,
   "metadata": {},
   "outputs": [
    {
     "name": "stdout",
     "output_type": "stream",
     "text": [
      "El total de números pares son: 27\n",
      "El total de números impares son: 13\n"
     ]
    }
   ],
   "source": [
    "##LISTAS4\n",
    "#Ordenar los elementos de la lista par de mayor a menor, \n",
    "#y los de la lista impar de menor a mayor.\n",
    "lonpar = len(pares)\n",
    "lonimpar = len(impares)\n",
    "print(\"El total de números pares son:\",lonpar)\n",
    "print(\"El total de números impares son:\", lonimpar)"
   ]
  },
  {
   "cell_type": "code",
   "execution_count": 56,
   "metadata": {},
   "outputs": [
    {
     "data": {
      "text/plain": [
       "[13, 15, 19, 25, 33, 37, 49, 53, 55, 71, 75, 77, 85]"
      ]
     },
     "execution_count": 56,
     "metadata": {},
     "output_type": "execute_result"
    }
   ],
   "source": [
    "##LISTAS5\n",
    "imparesord = sorted(impares)\n",
    "imparesord"
   ]
  },
  {
   "cell_type": "code",
   "execution_count": 57,
   "metadata": {},
   "outputs": [
    {
     "data": {
      "text/plain": [
       "[96,\n",
       " 94,\n",
       " 88,\n",
       " 84,\n",
       " 82,\n",
       " 78,\n",
       " 72,\n",
       " 70,\n",
       " 66,\n",
       " 62,\n",
       " 60,\n",
       " 58,\n",
       " 56,\n",
       " 52,\n",
       " 50,\n",
       " 46,\n",
       " 42,\n",
       " 38,\n",
       " 36,\n",
       " 34,\n",
       " 32,\n",
       " 28,\n",
       " 14,\n",
       " 10,\n",
       " 4,\n",
       " 2,\n",
       " 0]"
      ]
     },
     "execution_count": 57,
     "metadata": {},
     "output_type": "execute_result"
    }
   ],
   "source": [
    "##LISTAS5.1\n",
    "paresord = sorted(pares, reverse = True)\n",
    "paresord"
   ]
  },
  {
   "cell_type": "code",
   "execution_count": 58,
   "metadata": {},
   "outputs": [
    {
     "data": {
      "text/plain": [
       "1"
      ]
     },
     "execution_count": 58,
     "metadata": {},
     "output_type": "execute_result"
    }
   ],
   "source": [
    "#LISTAS5.2\n",
    "lista.append(5)\n",
    "lista.extend([105])\n",
    "lista.count(105)"
   ]
  },
  {
   "cell_type": "code",
   "execution_count": 59,
   "metadata": {},
   "outputs": [
    {
     "data": {
      "text/plain": [
       "41"
      ]
     },
     "execution_count": 59,
     "metadata": {},
     "output_type": "execute_result"
    }
   ],
   "source": [
    "#LISTAS5.3\n",
    "lista.index(105)"
   ]
  },
  {
   "cell_type": "code",
   "execution_count": 60,
   "metadata": {},
   "outputs": [
    {
     "data": {
      "text/plain": [
       "[77,\n",
       " 71,\n",
       " 78,\n",
       " 56,\n",
       " 66,\n",
       " 36,\n",
       " 10,\n",
       " 14,\n",
       " 37,\n",
       " 25,\n",
       " 96,\n",
       " 15,\n",
       " 72,\n",
       " 62,\n",
       " 85,\n",
       " 70,\n",
       " 75,\n",
       " 0,\n",
       " 84,\n",
       " 2,\n",
       " 28,\n",
       " 19,\n",
       " 94,\n",
       " 42,\n",
       " 46,\n",
       " 52,\n",
       " 4,\n",
       " 53,\n",
       " 50,\n",
       " 55,\n",
       " 58,\n",
       " 38,\n",
       " 60,\n",
       " 32,\n",
       " 33,\n",
       " 34,\n",
       " 88,\n",
       " 13,\n",
       " 49,\n",
       " 82,\n",
       " 5,\n",
       " 105]"
      ]
     },
     "execution_count": 60,
     "metadata": {},
     "output_type": "execute_result"
    }
   ],
   "source": [
    "#LISTAS5.4\n",
    "lista"
   ]
  },
  {
   "cell_type": "code",
   "execution_count": 61,
   "metadata": {},
   "outputs": [
    {
     "data": {
      "text/plain": [
       "{'Nombres': ['Ricardo', 'Isaira', 'Blanca', 'Jose', 'Omar', 'Armando'],\n",
       " 'Edades': [21, 15, 48, 48, 24, 32]}"
      ]
     },
     "execution_count": 61,
     "metadata": {},
     "output_type": "execute_result"
    }
   ],
   "source": [
    "##DICCIONARIOS\n",
    "#Crear un diccionario de 6 personas que conozcas con \n",
    "#su primer nombre y su edad.\n",
    "diccionario = {'Nombres' : ['Ricardo','Isaira','Blanca','Jose','Omar', 'Armando'],'Edades' : [21, 15, 48, 48, 24, 32]}\n",
    "diccionario"
   ]
  },
  {
   "cell_type": "code",
   "execution_count": 62,
   "metadata": {},
   "outputs": [
    {
     "name": "stdout",
     "output_type": "stream",
     "text": [
      "Las edades de menor  a mayor son [15, 21, 24, 32, 48, 48]\n"
     ]
    }
   ],
   "source": [
    "##DICCIONARIOS.2\n",
    "#Crear una lista con los valores de la edad \n",
    "#y reacomodar la lista de menor a mayor valor.\n",
    "lsted = diccionario.get('Edades')\n",
    "lsted.sort()\n",
    "print (\"Las edades de menor  a mayor son\",lsted)"
   ]
  },
  {
   "cell_type": "code",
   "execution_count": 63,
   "metadata": {},
   "outputs": [
    {
     "name": "stdout",
     "output_type": "stream",
     "text": [
      "Ricardo\n",
      "Isaira\n",
      "Blanca\n",
      "Jose\n",
      "Omar\n",
      "Armando\n"
     ]
    }
   ],
   "source": [
    "##DICCIONARIOS.3\n",
    "#Usando el diccionario y un loop, imprimir solo los nombres.\n",
    "for i in range(len(lsted)):\n",
    "    print (diccionario['Nombres'][i])"
   ]
  },
  {
   "cell_type": "code",
   "execution_count": 93,
   "metadata": {},
   "outputs": [
    {
     "data": {
      "text/plain": [
       "{'Nombres': ['Ricardo',\n",
       "  'Isaira',\n",
       "  'Blanca',\n",
       "  'Jose',\n",
       "  'Omar',\n",
       "  'Armando',\n",
       "  'Felicitas',\n",
       "  'Amalia'],\n",
       " 'Edades': [21, 15, 48, 48, 24, 32, 59, 53]}"
      ]
     },
     "execution_count": 93,
     "metadata": {},
     "output_type": "execute_result"
    }
   ],
   "source": [
    "##DICCIONARIOS.4\n",
    "#Añadir dos personas nuevas a tu diccionario, incluyendo edad.\n",
    "#Como dentro de nuestro diccionario hay listas, hay que actualizarlo de manera completa\n",
    "dicup = {'Nombres' : ['Ricardo','Isaira','Blanca','Jose','Omar', 'Armando','Felicitas','Amalia'],'Edades' : [21, 15, 48, 48, 24, 32,59,53]}\n",
    "diccionario.update(dicup)\n",
    "diccionario"
   ]
  },
  {
   "cell_type": "code",
   "execution_count": 92,
   "metadata": {},
   "outputs": [],
   "source": [
    "##SETS\n",
    "#Crea un set con 100 numeros aleatorios enteros del 1 al 25.\n",
    "settest = set()\n",
    "for i in range(0,99):\n",
    "    settest.add(r.randint(1,25))"
   ]
  },
  {
   "cell_type": "code",
   "execution_count": 85,
   "metadata": {},
   "outputs": [
    {
     "data": {
      "text/plain": [
       "set"
      ]
     },
     "execution_count": 85,
     "metadata": {},
     "output_type": "execute_result"
    }
   ],
   "source": [
    "type(settest)"
   ]
  },
  {
   "cell_type": "code",
   "execution_count": 84,
   "metadata": {},
   "outputs": [
    {
     "data": {
      "text/plain": [
       "{1,\n",
       " 2,\n",
       " 3,\n",
       " 4,\n",
       " 5,\n",
       " 6,\n",
       " 7,\n",
       " 8,\n",
       " 9,\n",
       " 10,\n",
       " 12,\n",
       " 13,\n",
       " 14,\n",
       " 15,\n",
       " 16,\n",
       " 17,\n",
       " 18,\n",
       " 19,\n",
       " 20,\n",
       " 21,\n",
       " 22,\n",
       " 23,\n",
       " 24,\n",
       " 25}"
      ]
     },
     "execution_count": 84,
     "metadata": {},
     "output_type": "execute_result"
    }
   ],
   "source": [
    "settest"
   ]
  },
  {
   "cell_type": "code",
   "execution_count": 94,
   "metadata": {},
   "outputs": [
    {
     "name": "stdout",
     "output_type": "stream",
     "text": [
      "El set es de longitud: 25\n"
     ]
    }
   ],
   "source": [
    "##SETS.2\n",
    "#Comprueba la longitud de tu set.\n",
    "print(\"El set es de longitud:\",len(settest))"
   ]
  },
  {
   "cell_type": "code",
   "execution_count": 95,
   "metadata": {},
   "outputs": [
    {
     "name": "stdout",
     "output_type": "stream",
     "text": [
      "¿El número aleatorio 60 se encuentra en el set?\n",
      "False\n",
      "¿El número aleatorio 47 se encuentra en el set?\n",
      "False\n",
      "¿El número aleatorio 55 se encuentra en el set?\n",
      "False\n",
      "¿El número aleatorio 49 se encuentra en el set?\n",
      "False\n",
      "¿El número aleatorio 81 se encuentra en el set?\n",
      "False\n",
      "¿El número aleatorio 62 se encuentra en el set?\n",
      "False\n",
      "¿El número aleatorio 61 se encuentra en el set?\n",
      "False\n",
      "¿El número aleatorio 21 se encuentra en el set?\n",
      "True\n",
      "¿El número aleatorio 26 se encuentra en el set?\n",
      "False\n"
     ]
    }
   ],
   "source": [
    "##SETES.3\n",
    "#Crea una lista de 5 numeros aleatorios del 1 al 10 y\n",
    "#comprueba si cada valor aparece en el set inicial.\n",
    "for i in range(0,9):\n",
    "    a = r.randint(0,100)\n",
    "    print(\"¿El número aleatorio\", a, \"se encuentra en el set?\")\n",
    "    print(a in settest)"
   ]
  },
  {
   "cell_type": "code",
   "execution_count": null,
   "metadata": {},
   "outputs": [],
   "source": []
  }
 ],
 "metadata": {
  "kernelspec": {
   "display_name": "Python 3",
   "language": "python",
   "name": "python3"
  },
  "language_info": {
   "codemirror_mode": {
    "name": "ipython",
    "version": 3
   },
   "file_extension": ".py",
   "mimetype": "text/x-python",
   "name": "python",
   "nbconvert_exporter": "python",
   "pygments_lexer": "ipython3",
   "version": "3.8.3"
  }
 },
 "nbformat": 4,
 "nbformat_minor": 4
}
